{
 "cells": [
  {
   "cell_type": "markdown",
   "metadata": {
    "application/vnd.databricks.v1+cell": {
     "cellMetadata": {},
     "inputWidgets": {},
     "nuid": "51afe9fe-67e6-46d0-b635-1f4b3ca05872",
     "showTitle": false,
     "title": ""
    }
   },
   "source": [
    "## Rename the headers."
   ]
  },
  {
   "cell_type": "code",
   "execution_count": 0,
   "metadata": {
    "application/vnd.databricks.v1+cell": {
     "cellMetadata": {
      "byteLimit": 2048000,
      "rowLimit": 10000
     },
     "inputWidgets": {},
     "nuid": "f1d9833d-e89f-4baa-8725-d5c41aff9a83",
     "showTitle": false,
     "title": ""
    }
   },
   "outputs": [
    {
     "output_type": "stream",
     "name": "stdout",
     "output_type": "stream",
     "text": [
      "address processed and saved in gold layer.\naddresstype processed and saved in gold layer.\nbillofmaterials processed and saved in gold layer.\ncontact processed and saved in gold layer.\ncontactcreditcard processed and saved in gold layer.\ncontacttype processed and saved in gold layer.\ncountryregion processed and saved in gold layer.\ncountryregioncurrency processed and saved in gold layer.\ncreditcard processed and saved in gold layer.\nculture processed and saved in gold layer.\ncurrency processed and saved in gold layer.\ncurrencyrate processed and saved in gold layer.\ncustomer processed and saved in gold layer.\ncustomeraddress processed and saved in gold layer.\ndatabaselog processed and saved in gold layer.\ndepartment processed and saved in gold layer.\ndocument processed and saved in gold layer.\nemployee processed and saved in gold layer.\nemployeeaddress processed and saved in gold layer.\nemployeedepartmenthistory processed and saved in gold layer.\nemployeepayhistory processed and saved in gold layer.\nerrorlog processed and saved in gold layer.\nillustration processed and saved in gold layer.\nindividual processed and saved in gold layer.\n"
     ]
    }
   ],
   "source": [
    "from pyspark.sql.functions import col, regexp_replace\n",
    "\n",
    "input_path_list = dbutils.fs.ls(\"/mnt/silver/adventureworks\")\n",
    "\n",
    "output_path = \"/mnt/gold/adventureworks\"\n",
    "\n",
    "for file_path in input_path_list:\n",
    "\n",
    "    if file_path.name[:-1] in ['jobcandidate']:\n",
    "        continue\n",
    "\n",
    "    df = spark.read.format('delta').load(file_path.path)\n",
    "\n",
    "    headers = df.columns\n",
    "    for old_col in headers:\n",
    "\n",
    "        new_col = \"\".join([\"_\"+char if char.isupper() and not old_col[i-1].isupper() else char for i, char in enumerate(old_col)]).lstrip(\"_\")\n",
    "\n",
    "        df = df.withColumnRenamed(old_col, new_col)\n",
    "    \n",
    "    df.write.format('delta').mode('overwrite').save(output_path + '/' + file_path.name)\n",
    "    # print(file_path.name[:-1] + ' processed and saved in gold layer.')\n"
   ]
  },
  {
   "cell_type": "code",
   "execution_count": 0,
   "metadata": {
    "application/vnd.databricks.v1+cell": {
     "cellMetadata": {},
     "inputWidgets": {},
     "nuid": "50b7834b-a523-40c0-bb58-ba3f21fb8cd7",
     "showTitle": false,
     "title": ""
    }
   },
   "outputs": [],
   "source": []
  }
 ],
 "metadata": {
  "application/vnd.databricks.v1+notebook": {
   "dashboards": [],
   "language": "python",
   "notebookMetadata": {
    "pythonIndentUnit": 4
   },
   "notebookName": "silver_to_gold",
   "widgets": {}
  }
 },
 "nbformat": 4,
 "nbformat_minor": 0
}
