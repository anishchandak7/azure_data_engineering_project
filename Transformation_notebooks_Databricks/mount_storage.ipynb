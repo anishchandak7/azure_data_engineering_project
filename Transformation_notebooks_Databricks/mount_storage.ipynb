{
 "cells": [
  {
   "cell_type": "markdown",
   "metadata": {
    "application/vnd.databricks.v1+cell": {
     "cellMetadata": {},
     "inputWidgets": {},
     "nuid": "48d13322-71e0-492c-8560-968b87286de6",
     "showTitle": false,
     "title": ""
    }
   },
   "source": [
    "Ensure these 2 roles are already assigned to STORAGE_ACOUNT before executing the mount script:\n",
    "\n",
    "storage account > IAM > Add role assignment, and add the special permissions for this type of request:\n",
    "\n",
    "        * Storage Blob Data Contributor\n",
    "        * Storage Queue Data Contributor\n"
   ]
  },
  {
   "cell_type": "code",
   "execution_count": 0,
   "metadata": {
    "application/vnd.databricks.v1+cell": {
     "cellMetadata": {
      "byteLimit": 2048000,
      "rowLimit": 10000
     },
     "inputWidgets": {},
     "nuid": "d26c34e4-4b8b-4114-8b39-b33acf1c4e32",
     "showTitle": false,
     "title": ""
    }
   },
   "outputs": [],
   "source": [
    "# Necessary configuration for mounting data lake to databricks.\n",
    "configs = {\n",
    "  \"fs.azure.account.auth.type\": \"CustomAccessToken\",\n",
    "  \"fs.azure.account.custom.token.provider.class\": spark.conf.get(\"spark.databricks.passthrough.adls.gen2.tokenProviderClassName\")\n",
    "}"
   ]
  },
  {
   "cell_type": "code",
   "execution_count": 0,
   "metadata": {
    "application/vnd.databricks.v1+cell": {
     "cellMetadata": {
      "byteLimit": 2048000,
      "rowLimit": 10000
     },
     "inputWidgets": {},
     "nuid": "d1f1865a-4892-40a9-97fa-732cc0cc4ebd",
     "showTitle": false,
     "title": ""
    }
   },
   "outputs": [],
   "source": [
    "mounts = dbutils.fs.mounts()"
   ]
  },
  {
   "cell_type": "markdown",
   "metadata": {
    "application/vnd.databricks.v1+cell": {
     "cellMetadata": {},
     "inputWidgets": {},
     "nuid": "c77d8f9f-1f16-4919-836a-892856bd379d",
     "showTitle": false,
     "title": ""
    }
   },
   "source": [
    "## 1. BRONZE LAYER MOUNT."
   ]
  },
  {
   "cell_type": "code",
   "execution_count": 0,
   "metadata": {
    "application/vnd.databricks.v1+cell": {
     "cellMetadata": {
      "byteLimit": 2048000,
      "rowLimit": 10000
     },
     "inputWidgets": {},
     "nuid": "f89f6f21-fa9c-47fb-92fe-04f4207a0d56",
     "showTitle": false,
     "title": ""
    }
   },
   "outputs": [
    {
     "output_type": "stream",
     "name": "stdout",
     "output_type": "stream",
     "text": [
      "Out[2]: True"
     ]
    }
   ],
   "source": [
    "CONTAINER_NAME = 'bronze'\n",
    "STORAGE_ACCOUNT_NAME = 'mrkprojectdatalakegen2'\n",
    "MOUNT_NAME = 'bronze'\n",
    "\n",
    "for mount in mounts:\n",
    "  if mount.mountPoint == '/mnt/'+MOUNT_NAME:\n",
    "    break\n",
    "else:\n",
    "  dbutils.fs.mount(\n",
    "    source = \"abfss://\"+CONTAINER_NAME + \"@\" + STORAGE_ACCOUNT_NAME + \".dfs.core.windows.net/\",\n",
    "    mount_point = \"/mnt/\"+MOUNT_NAME,\n",
    "    extra_configs = configs)\n"
   ]
  },
  {
   "cell_type": "markdown",
   "metadata": {
    "application/vnd.databricks.v1+cell": {
     "cellMetadata": {},
     "inputWidgets": {},
     "nuid": "577916d2-d3f4-49e9-b439-fea6b7371c4d",
     "showTitle": false,
     "title": ""
    }
   },
   "source": [
    "## 2. SILVER LAYER MOUNT."
   ]
  },
  {
   "cell_type": "code",
   "execution_count": 0,
   "metadata": {
    "application/vnd.databricks.v1+cell": {
     "cellMetadata": {
      "byteLimit": 2048000,
      "rowLimit": 10000
     },
     "inputWidgets": {},
     "nuid": "f06a5fda-05db-4fa0-8ce1-4373848419ff",
     "showTitle": false,
     "title": ""
    }
   },
   "outputs": [
    {
     "output_type": "stream",
     "name": "stdout",
     "output_type": "stream",
     "text": [
      "Out[6]: True"
     ]
    }
   ],
   "source": [
    "CONTAINER_NAME = 'silver'\n",
    "STORAGE_ACCOUNT_NAME = 'mrkprojectdatalakegen2'\n",
    "MOUNT_NAME = 'silver'\n",
    "for mount in mounts:\n",
    "  if mount.mountPoint == '/mnt/'+MOUNT_NAME:\n",
    "    break\n",
    "else:\n",
    "  dbutils.fs.mount(\n",
    "    source = \"abfss://\"+CONTAINER_NAME + \"@\" + STORAGE_ACCOUNT_NAME + \".dfs.core.windows.net/\",\n",
    "    mount_point = \"/mnt/\"+MOUNT_NAME,\n",
    "    extra_configs = configs)"
   ]
  },
  {
   "cell_type": "markdown",
   "metadata": {
    "application/vnd.databricks.v1+cell": {
     "cellMetadata": {},
     "inputWidgets": {},
     "nuid": "97fc3c2a-093f-4249-ba89-648ab5f7b9e8",
     "showTitle": false,
     "title": ""
    }
   },
   "source": [
    "## 3. GOLD LAYER MOUNT."
   ]
  },
  {
   "cell_type": "code",
   "execution_count": 0,
   "metadata": {
    "application/vnd.databricks.v1+cell": {
     "cellMetadata": {
      "byteLimit": 2048000,
      "rowLimit": 10000
     },
     "inputWidgets": {},
     "nuid": "49cfd40c-5e93-4f76-a14b-0f585d3c2439",
     "showTitle": false,
     "title": ""
    }
   },
   "outputs": [
    {
     "output_type": "stream",
     "name": "stdout",
     "output_type": "stream",
     "text": [
      "Out[7]: True"
     ]
    }
   ],
   "source": [
    "CONTAINER_NAME = 'gold'\n",
    "STORAGE_ACCOUNT_NAME = 'mrkprojectdatalakegen2'\n",
    "MOUNT_NAME = 'gold'\n",
    "for mount in mounts:\n",
    "  if mount.mountPoint == '/mnt/'+MOUNT_NAME:\n",
    "    break\n",
    "else:\n",
    "  dbutils.fs.mount(\n",
    "    source = \"abfss://\"+CONTAINER_NAME + \"@\" + STORAGE_ACCOUNT_NAME + \".dfs.core.windows.net/\",\n",
    "    mount_point = \"/mnt/\"+MOUNT_NAME,\n",
    "    extra_configs = configs)"
   ]
  },
  {
   "cell_type": "code",
   "execution_count": 0,
   "metadata": {
    "application/vnd.databricks.v1+cell": {
     "cellMetadata": {},
     "inputWidgets": {},
     "nuid": "31710088-9676-4cf1-8f48-5ff3e1ed53c2",
     "showTitle": false,
     "title": ""
    }
   },
   "outputs": [],
   "source": []
  }
 ],
 "metadata": {
  "application/vnd.databricks.v1+notebook": {
   "dashboards": [],
   "language": "python",
   "notebookMetadata": {
    "pythonIndentUnit": 4
   },
   "notebookName": "mount_storage",
   "widgets": {}
  }
 },
 "nbformat": 4,
 "nbformat_minor": 0
}
