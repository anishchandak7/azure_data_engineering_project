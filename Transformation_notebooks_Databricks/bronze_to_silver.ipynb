{
 "cells": [
  {
   "cell_type": "markdown",
   "metadata": {
    "application/vnd.databricks.v1+cell": {
     "cellMetadata": {},
     "inputWidgets": {},
     "nuid": "74f0933a-d20f-4edd-b15a-f590471377ce",
     "showTitle": false,
     "title": ""
    }
   },
   "source": [
    "## Aim:\n",
    "#### Read the data from bronze container, correct the date format for all the datasets who has date columns."
   ]
  },
  {
   "cell_type": "code",
   "execution_count": 0,
   "metadata": {
    "application/vnd.databricks.v1+cell": {
     "cellMetadata": {
      "byteLimit": 2048000,
      "rowLimit": 10000
     },
     "inputWidgets": {},
     "nuid": "396b2d93-790b-49b6-93fb-e127f354e704",
     "showTitle": false,
     "title": ""
    }
   },
   "outputs": [
    {
     "output_type": "stream",
     "name": "stdout",
     "output_type": "stream",
     "text": [
      "/mnt/silver/adventureworks/address/\n/mnt/silver/adventureworks/addresstype/\n/mnt/silver/adventureworks/billofmaterials/\n/mnt/silver/adventureworks/contact/\n/mnt/silver/adventureworks/contactcreditcard/\n/mnt/silver/adventureworks/contacttype/\n/mnt/silver/adventureworks/countryregion/\n/mnt/silver/adventureworks/countryregioncurrency/\n/mnt/silver/adventureworks/creditcard/\n/mnt/silver/adventureworks/culture/\n/mnt/silver/adventureworks/currency/\n/mnt/silver/adventureworks/currencyrate/\n/mnt/silver/adventureworks/customer/\n/mnt/silver/adventureworks/customeraddress/\n/mnt/silver/adventureworks/databaselog/\n/mnt/silver/adventureworks/department/\n/mnt/silver/adventureworks/document/\n/mnt/silver/adventureworks/employee/\n/mnt/silver/adventureworks/employeeaddress/\n/mnt/silver/adventureworks/employeedepartmenthistory/\n/mnt/silver/adventureworks/employeepayhistory/\n/mnt/silver/adventureworks/errorlog/\n/mnt/silver/adventureworks/illustration/\n/mnt/silver/adventureworks/individual/\n/mnt/silver/adventureworks/location/\n/mnt/silver/adventureworks/product/\n/mnt/silver/adventureworks/productcategory/\n/mnt/silver/adventureworks/productcosthistory/\n/mnt/silver/adventureworks/productdescription/\n/mnt/silver/adventureworks/productdocument/\n/mnt/silver/adventureworks/productinventory/\n/mnt/silver/adventureworks/productlistpricehistory/\n/mnt/silver/adventureworks/productmodel/\n/mnt/silver/adventureworks/productmodelillustration/\n/mnt/silver/adventureworks/productmodelproductdescriptionculture/\n/mnt/silver/adventureworks/productphoto/\n/mnt/silver/adventureworks/productproductphoto/\n/mnt/silver/adventureworks/productreview/\n/mnt/silver/adventureworks/productsubcategory/\n/mnt/silver/adventureworks/productvendor/\n/mnt/silver/adventureworks/purchaseorderdetail/\n/mnt/silver/adventureworks/purchaseorderheader/\n/mnt/silver/adventureworks/salesorderdetail/\n/mnt/silver/adventureworks/salesorderheader/\n/mnt/silver/adventureworks/salesorderheadersalesreason/\n/mnt/silver/adventureworks/salesperson/\n/mnt/silver/adventureworks/salespersonquotahistory/\n/mnt/silver/adventureworks/salesreason/\n/mnt/silver/adventureworks/salestaxrate/\n/mnt/silver/adventureworks/salesterritory/\n/mnt/silver/adventureworks/salesterritoryhistory/\n/mnt/silver/adventureworks/scrapreason/\n/mnt/silver/adventureworks/shift/\n/mnt/silver/adventureworks/shipmethod/\n/mnt/silver/adventureworks/shoppingcartitem/\n/mnt/silver/adventureworks/specialoffer/\n/mnt/silver/adventureworks/specialofferproduct/\n/mnt/silver/adventureworks/stateprovince/\n/mnt/silver/adventureworks/store/\n/mnt/silver/adventureworks/storecontact/\n/mnt/silver/adventureworks/transactionhistory/\n/mnt/silver/adventureworks/transactionhistoryarchive/\n/mnt/silver/adventureworks/unitmeasure/\n/mnt/silver/adventureworks/vendor/\n/mnt/silver/adventureworks/vendoraddress/\n/mnt/silver/adventureworks/vendorcontact/\n/mnt/silver/adventureworks/workorder/\n/mnt/silver/adventureworks/workorderrouting/\n"
     ]
    }
   ],
   "source": [
    "from pyspark.sql.functions import col, from_utc_timestamp, date_format\n",
    "from pyspark.sql.types import TimestampType\n",
    "\n",
    "input_path_list = dbutils.fs.ls(\"/mnt/bronze/adventureworks\")\n",
    "output_path = \"/mnt/silver/adventureworks\"\n",
    "\n",
    "for file_path in input_path_list:\n",
    "\n",
    "    if file_path.name[:-1] in ['jobcandidate']:\n",
    "        continue\n",
    "\n",
    "    complete_file_path = file_path.path + file_path.name[:-1] + '.parquet'\n",
    "    # Read the data into a dataframe.\n",
    "    df = spark.read.format('parquet').load(complete_file_path)\n",
    "\n",
    "    # Iterate for each header, check if header name contains 'date' word or its dtype is timestamp.\n",
    "    headers_dtypes_list = df.dtypes\n",
    "    for item in headers_dtypes_list:\n",
    "\n",
    "        column, dtype = item\n",
    "        if column.lower().__contains__('date') or dtype == 'timestamp':\n",
    "            df = df.withColumn(column, date_format(from_utc_timestamp(df[column].cast(TimestampType()), \"UTC\"), \"yyyy-MM-dd\"))\n",
    "            # df = df.withColumn(column, to_timestamp(col(column), \"%Y-%m-%d\"))\n",
    "    \n",
    "    save_path = output_path + '/' + file_path.name[:-1] + '/'\n",
    "    # print(save_path)\n",
    "    df.write.format('delta').mode('overwrite').save(save_path)"
   ]
  },
  {
   "cell_type": "code",
   "execution_count": 0,
   "metadata": {
    "application/vnd.databricks.v1+cell": {
     "cellMetadata": {},
     "inputWidgets": {},
     "nuid": "349f8625-a456-495a-8037-2c2f6d554820",
     "showTitle": false,
     "title": ""
    }
   },
   "outputs": [],
   "source": []
  }
 ],
 "metadata": {
  "application/vnd.databricks.v1+notebook": {
   "dashboards": [],
   "language": "python",
   "notebookMetadata": {
    "pythonIndentUnit": 4
   },
   "notebookName": "bronze_to_silver",
   "widgets": {}
  }
 },
 "nbformat": 4,
 "nbformat_minor": 0
}
